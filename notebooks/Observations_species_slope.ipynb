{
 "cells": [
  {
   "cell_type": "code",
   "execution_count": 14,
   "metadata": {},
   "outputs": [],
   "source": [
    "%matplotlib inline\n",
    "\n",
    "import pandas\n",
    "\n",
    "import pgdata\n",
    "\n",
    "db = pgdata.connect()\n",
    "\n",
    "# get salmon records that aren't in waterbodies\n",
    "sql = \"\"\"SELECT \n",
    "           fish_obsrvtn_distinct_id,\n",
    "           edge_description, \n",
    "           waterbody_type,\n",
    "           vertex_from_elevation,\n",
    "           vertex_to_elevation,\n",
    "           vertex_length,\n",
    "           vertex_slope,\n",
    "           segment_from_elevation\n",
    "           segment_to_elevation,\n",
    "           segment_length,\n",
    "           segment_slope,\n",
    "           species_code,\n",
    "           species_name\n",
    "         FROM temp.obs_spp_by_slope \n",
    "         WHERE waterbody_type NOT IN ('X', 'L', 'W')\n",
    "         AND species_code IN ('CH', 'CM', 'CO', 'PK', 'SK')\n",
    "         ORDER BY fish_obsrvtn_distinct_id, species_code\n",
    "\"\"\"\n",
    "df = pandas.read_sql_query(sql, db.engine)"
   ]
  },
  {
   "cell_type": "code",
   "execution_count": 15,
   "metadata": {},
   "outputs": [
    {
     "data": {
      "text/html": [
       "<div>\n",
       "<style scoped>\n",
       "    .dataframe tbody tr th:only-of-type {\n",
       "        vertical-align: middle;\n",
       "    }\n",
       "\n",
       "    .dataframe tbody tr th {\n",
       "        vertical-align: top;\n",
       "    }\n",
       "\n",
       "    .dataframe thead th {\n",
       "        text-align: right;\n",
       "    }\n",
       "</style>\n",
       "<table border=\"1\" class=\"dataframe\">\n",
       "  <thead>\n",
       "    <tr style=\"text-align: right;\">\n",
       "      <th></th>\n",
       "      <th>fish_obsrvtn_distinct_id</th>\n",
       "      <th>edge_description</th>\n",
       "      <th>waterbody_type</th>\n",
       "      <th>vertex_from_elevation</th>\n",
       "      <th>vertex_to_elevation</th>\n",
       "      <th>vertex_length</th>\n",
       "      <th>vertex_slope</th>\n",
       "      <th>segment_to_elevation</th>\n",
       "      <th>segment_length</th>\n",
       "      <th>segment_slope</th>\n",
       "      <th>species_code</th>\n",
       "      <th>species_name</th>\n",
       "    </tr>\n",
       "  </thead>\n",
       "  <tbody>\n",
       "    <tr>\n",
       "      <th>0</th>\n",
       "      <td>5</td>\n",
       "      <td>Construction line, double line river, main flow</td>\n",
       "      <td>R</td>\n",
       "      <td>228.7</td>\n",
       "      <td>228.74</td>\n",
       "      <td>67.44</td>\n",
       "      <td>0.06</td>\n",
       "      <td>227.763</td>\n",
       "      <td>905.92</td>\n",
       "      <td>0.16</td>\n",
       "      <td>CH</td>\n",
       "      <td>Chinook Salmon</td>\n",
       "    </tr>\n",
       "    <tr>\n",
       "      <th>1</th>\n",
       "      <td>5</td>\n",
       "      <td>Construction line, double line river, main flow</td>\n",
       "      <td>R</td>\n",
       "      <td>228.7</td>\n",
       "      <td>228.74</td>\n",
       "      <td>67.44</td>\n",
       "      <td>0.06</td>\n",
       "      <td>227.763</td>\n",
       "      <td>905.92</td>\n",
       "      <td>0.16</td>\n",
       "      <td>CO</td>\n",
       "      <td>Coho Salmon</td>\n",
       "    </tr>\n",
       "    <tr>\n",
       "      <th>2</th>\n",
       "      <td>5</td>\n",
       "      <td>Construction line, double line river, main flow</td>\n",
       "      <td>R</td>\n",
       "      <td>228.7</td>\n",
       "      <td>228.74</td>\n",
       "      <td>67.44</td>\n",
       "      <td>0.06</td>\n",
       "      <td>227.763</td>\n",
       "      <td>905.92</td>\n",
       "      <td>0.16</td>\n",
       "      <td>SK</td>\n",
       "      <td>Sockeye Salmon</td>\n",
       "    </tr>\n",
       "    <tr>\n",
       "      <th>3</th>\n",
       "      <td>6</td>\n",
       "      <td>Construction line, connection</td>\n",
       "      <td>R</td>\n",
       "      <td>122.0</td>\n",
       "      <td>122.00</td>\n",
       "      <td>853.06</td>\n",
       "      <td>0.00</td>\n",
       "      <td>122.000</td>\n",
       "      <td>867.69</td>\n",
       "      <td>0.00</td>\n",
       "      <td>CO</td>\n",
       "      <td>Coho Salmon</td>\n",
       "    </tr>\n",
       "    <tr>\n",
       "      <th>4</th>\n",
       "      <td>6</td>\n",
       "      <td>Construction line, connection</td>\n",
       "      <td>R</td>\n",
       "      <td>122.0</td>\n",
       "      <td>122.00</td>\n",
       "      <td>853.06</td>\n",
       "      <td>0.00</td>\n",
       "      <td>122.000</td>\n",
       "      <td>867.69</td>\n",
       "      <td>0.00</td>\n",
       "      <td>CO</td>\n",
       "      <td>Coho Salmon</td>\n",
       "    </tr>\n",
       "  </tbody>\n",
       "</table>\n",
       "</div>"
      ],
      "text/plain": [
       "   fish_obsrvtn_distinct_id                                 edge_description  \\\n",
       "0                         5  Construction line, double line river, main flow   \n",
       "1                         5  Construction line, double line river, main flow   \n",
       "2                         5  Construction line, double line river, main flow   \n",
       "3                         6                    Construction line, connection   \n",
       "4                         6                    Construction line, connection   \n",
       "\n",
       "  waterbody_type  vertex_from_elevation  vertex_to_elevation  vertex_length  \\\n",
       "0              R                  228.7               228.74          67.44   \n",
       "1              R                  228.7               228.74          67.44   \n",
       "2              R                  228.7               228.74          67.44   \n",
       "3              R                  122.0               122.00         853.06   \n",
       "4              R                  122.0               122.00         853.06   \n",
       "\n",
       "   vertex_slope  segment_to_elevation  segment_length  segment_slope  \\\n",
       "0          0.06               227.763          905.92           0.16   \n",
       "1          0.06               227.763          905.92           0.16   \n",
       "2          0.06               227.763          905.92           0.16   \n",
       "3          0.00               122.000          867.69           0.00   \n",
       "4          0.00               122.000          867.69           0.00   \n",
       "\n",
       "  species_code    species_name  \n",
       "0           CH  Chinook Salmon  \n",
       "1           CO     Coho Salmon  \n",
       "2           SK  Sockeye Salmon  \n",
       "3           CO     Coho Salmon  \n",
       "4           CO     Coho Salmon  "
      ]
     },
     "execution_count": 15,
     "metadata": {},
     "output_type": "execute_result"
    }
   ],
   "source": [
    "df.head()"
   ]
  },
  {
   "cell_type": "code",
   "execution_count": 16,
   "metadata": {},
   "outputs": [
    {
     "data": {
      "text/html": [
       "<div>\n",
       "<style scoped>\n",
       "    .dataframe tbody tr th:only-of-type {\n",
       "        vertical-align: middle;\n",
       "    }\n",
       "\n",
       "    .dataframe tbody tr th {\n",
       "        vertical-align: top;\n",
       "    }\n",
       "\n",
       "    .dataframe thead th {\n",
       "        text-align: right;\n",
       "    }\n",
       "</style>\n",
       "<table border=\"1\" class=\"dataframe\">\n",
       "  <thead>\n",
       "    <tr style=\"text-align: right;\">\n",
       "      <th></th>\n",
       "      <th>fish_obsrvtn_distinct_id</th>\n",
       "      <th>vertex_from_elevation</th>\n",
       "      <th>vertex_to_elevation</th>\n",
       "      <th>vertex_length</th>\n",
       "      <th>vertex_slope</th>\n",
       "      <th>segment_to_elevation</th>\n",
       "      <th>segment_length</th>\n",
       "      <th>segment_slope</th>\n",
       "    </tr>\n",
       "  </thead>\n",
       "  <tbody>\n",
       "    <tr>\n",
       "      <th>count</th>\n",
       "      <td>14010.000000</td>\n",
       "      <td>14010.000000</td>\n",
       "      <td>14010.000000</td>\n",
       "      <td>14010.000000</td>\n",
       "      <td>14010.000000</td>\n",
       "      <td>14010.000000</td>\n",
       "      <td>14010.000000</td>\n",
       "      <td>14010.000000</td>\n",
       "    </tr>\n",
       "    <tr>\n",
       "      <th>mean</th>\n",
       "      <td>25913.274946</td>\n",
       "      <td>190.239521</td>\n",
       "      <td>191.218847</td>\n",
       "      <td>121.150269</td>\n",
       "      <td>1.693593</td>\n",
       "      <td>188.666837</td>\n",
       "      <td>754.593880</td>\n",
       "      <td>0.972302</td>\n",
       "    </tr>\n",
       "    <tr>\n",
       "      <th>std</th>\n",
       "      <td>15970.127227</td>\n",
       "      <td>252.367165</td>\n",
       "      <td>252.171830</td>\n",
       "      <td>145.396737</td>\n",
       "      <td>11.353263</td>\n",
       "      <td>252.413160</td>\n",
       "      <td>730.516249</td>\n",
       "      <td>1.821784</td>\n",
       "    </tr>\n",
       "    <tr>\n",
       "      <th>min</th>\n",
       "      <td>5.000000</td>\n",
       "      <td>1.000000</td>\n",
       "      <td>1.000000</td>\n",
       "      <td>0.220000</td>\n",
       "      <td>0.000000</td>\n",
       "      <td>1.000000</td>\n",
       "      <td>6.770000</td>\n",
       "      <td>0.000000</td>\n",
       "    </tr>\n",
       "    <tr>\n",
       "      <th>25%</th>\n",
       "      <td>13374.500000</td>\n",
       "      <td>12.810000</td>\n",
       "      <td>13.310000</td>\n",
       "      <td>47.350000</td>\n",
       "      <td>0.000000</td>\n",
       "      <td>11.709750</td>\n",
       "      <td>251.190000</td>\n",
       "      <td>0.050000</td>\n",
       "    </tr>\n",
       "    <tr>\n",
       "      <th>50%</th>\n",
       "      <td>24818.000000</td>\n",
       "      <td>72.060000</td>\n",
       "      <td>73.065000</td>\n",
       "      <td>76.780000</td>\n",
       "      <td>0.350000</td>\n",
       "      <td>70.268000</td>\n",
       "      <td>498.560000</td>\n",
       "      <td>0.450000</td>\n",
       "    </tr>\n",
       "    <tr>\n",
       "      <th>75%</th>\n",
       "      <td>36743.000000</td>\n",
       "      <td>256.500000</td>\n",
       "      <td>259.000000</td>\n",
       "      <td>147.750000</td>\n",
       "      <td>1.600000</td>\n",
       "      <td>254.497000</td>\n",
       "      <td>1072.760000</td>\n",
       "      <td>1.050000</td>\n",
       "    </tr>\n",
       "    <tr>\n",
       "      <th>max</th>\n",
       "      <td>63552.000000</td>\n",
       "      <td>1318.150000</td>\n",
       "      <td>1318.540000</td>\n",
       "      <td>2398.250000</td>\n",
       "      <td>724.160000</td>\n",
       "      <td>1318.000000</td>\n",
       "      <td>8153.200000</td>\n",
       "      <td>37.550000</td>\n",
       "    </tr>\n",
       "  </tbody>\n",
       "</table>\n",
       "</div>"
      ],
      "text/plain": [
       "       fish_obsrvtn_distinct_id  vertex_from_elevation  vertex_to_elevation  \\\n",
       "count              14010.000000           14010.000000         14010.000000   \n",
       "mean               25913.274946             190.239521           191.218847   \n",
       "std                15970.127227             252.367165           252.171830   \n",
       "min                    5.000000               1.000000             1.000000   \n",
       "25%                13374.500000              12.810000            13.310000   \n",
       "50%                24818.000000              72.060000            73.065000   \n",
       "75%                36743.000000             256.500000           259.000000   \n",
       "max                63552.000000            1318.150000          1318.540000   \n",
       "\n",
       "       vertex_length  vertex_slope  segment_to_elevation  segment_length  \\\n",
       "count   14010.000000  14010.000000          14010.000000    14010.000000   \n",
       "mean      121.150269      1.693593            188.666837      754.593880   \n",
       "std       145.396737     11.353263            252.413160      730.516249   \n",
       "min         0.220000      0.000000              1.000000        6.770000   \n",
       "25%        47.350000      0.000000             11.709750      251.190000   \n",
       "50%        76.780000      0.350000             70.268000      498.560000   \n",
       "75%       147.750000      1.600000            254.497000     1072.760000   \n",
       "max      2398.250000    724.160000           1318.000000     8153.200000   \n",
       "\n",
       "       segment_slope  \n",
       "count   14010.000000  \n",
       "mean        0.972302  \n",
       "std         1.821784  \n",
       "min         0.000000  \n",
       "25%         0.050000  \n",
       "50%         0.450000  \n",
       "75%         1.050000  \n",
       "max        37.550000  "
      ]
     },
     "execution_count": 16,
     "metadata": {},
     "output_type": "execute_result"
    }
   ],
   "source": [
    "df.describe()"
   ]
  },
  {
   "cell_type": "code",
   "execution_count": 20,
   "metadata": {},
   "outputs": [
    {
     "data": {
      "text/plain": [
       "array([[<matplotlib.axes._subplots.AxesSubplot object at 0x110050208>]],\n",
       "      dtype=object)"
      ]
     },
     "execution_count": 20,
     "metadata": {},
     "output_type": "execute_result"
    },
    {
     "data": {
      "image/png": "[encoded data removed]",
      "text/plain": [
       "<Figure size 432x288 with 1 Axes>"
      ]
     },
     "metadata": {},
     "output_type": "display_data"
    }
   ],
   "source": [
    "# histogram of slopes between vertexes where slope < 100%\n",
    "\n",
    "df[df['vertex_slope'] < 100].hist(column='vertex_slope', bins=20)"
   ]
  },
  {
   "cell_type": "code",
   "execution_count": 24,
   "metadata": {},
   "outputs": [
    {
     "data": {
      "text/plain": [
       "array([[<matplotlib.axes._subplots.AxesSubplot object at 0x11265d400>]],\n",
       "      dtype=object)"
      ]
     },
     "execution_count": 24,
     "metadata": {},
     "output_type": "execute_result"
    },
    {
     "data": {
      "image/png": "[encoded data removed]",
      "text/plain": [
       "<Figure size 432x288 with 1 Axes>"
      ]
     },
     "metadata": {},
     "output_type": "display_data"
    }
   ],
   "source": [
    "# histogram of slopes between vertexes where slope < 20%\n",
    "df[df['vertex_slope'] < 20].hist(column='vertex_slope', bins=20)"
   ]
  },
  {
   "cell_type": "code",
   "execution_count": 26,
   "metadata": {},
   "outputs": [
    {
     "data": {
      "text/plain": [
       "array([[<matplotlib.axes._subplots.AxesSubplot object at 0x11565df60>]],\n",
       "      dtype=object)"
      ]
     },
     "execution_count": 26,
     "metadata": {},
     "output_type": "execute_result"
    },
    {
     "data": {
      "image/png": "[encoded data removed]",
      "text/plain": [
       "<Figure size 432x288 with 1 Axes>"
      ]
     },
     "metadata": {},
     "output_type": "display_data"
    }
   ],
   "source": [
    "# histogram of segment slopes where slope < 20%\n",
    "df[df['segment_slope'] < 20].hist(column='segment_slope', bins=20)"
   ]
  },
  {
   "cell_type": "code",
   "execution_count": 27,
   "metadata": {},
   "outputs": [
    {
     "data": {
      "text/plain": [
       "<matplotlib.axes._subplots.AxesSubplot at 0x111e27d68>"
      ]
     },
     "execution_count": 27,
     "metadata": {},
     "output_type": "execute_result"
    },
    {
     "data": {
      "image/png": "[encoded data removed]",
      "text/plain": [
       "<Figure size 432x288 with 1 Axes>"
      ]
     },
     "metadata": {},
     "output_type": "display_data"
    }
   ],
   "source": [
    "# try a box plot for all salmon, segment slopes less than 15%\n",
    "\n",
    "df[df['segment_slope'] < 15].boxplot(column=['segment_slope'])"
   ]
  },
  {
   "cell_type": "code",
   "execution_count": 39,
   "metadata": {},
   "outputs": [
    {
     "data": {
      "text/plain": [
       "<matplotlib.axes._subplots.AxesSubplot at 0x10b5d4e48>"
      ]
     },
     "execution_count": 39,
     "metadata": {},
     "output_type": "execute_result"
    },
    {
     "data": {
      "image/png": "[encoded data removed]",
      "text/plain": [
       "<Figure size 432x288 with 1 Axes>"
      ]
     },
     "metadata": {},
     "output_type": "display_data"
    }
   ],
   "source": [
    "# try coho at < 15%\n",
    "df_co = df[df['species_code'] == 'CO']\n",
    "df_co[df_co['segment_slope'] < 30].boxplot(column='segment_slope')\n"
   ]
  }
 ],
 "metadata": {
  "kernelspec": {
   "display_name": "Python 3",
   "language": "python",
   "name": "python3"
  },
  "language_info": {
   "codemirror_mode": {
    "name": "ipython",
    "version": 3
   },
   "file_extension": ".py",
   "mimetype": "text/x-python",
   "name": "python",
   "nbconvert_exporter": "python",
   "pygments_lexer": "ipython3",
   "version": "3.6.5"
  }
 },
 "nbformat": 4,
 "nbformat_minor": 2
}
