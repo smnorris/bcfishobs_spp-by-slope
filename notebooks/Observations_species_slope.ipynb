{
 "cells": [
  {
   "cell_type": "code",
   "execution_count": 1,
   "metadata": {},
   "outputs": [],
   "source": [
    "%matplotlib inline\n",
    "\n",
    "import pandas\n",
    "import seaborn\n",
    "\n",
    "import pgdata\n",
    "\n",
    "db = pgdata.connect()\n",
    "\n",
    "# Get all salmon records that aren't in waterbodies\n",
    "# This returns a record for every location/species combination\n",
    "sql = \"\"\"SELECT \n",
    "           fish_obsrvtn_distinct_id,\n",
    "           edge_description, \n",
    "           waterbody_type,\n",
    "           vertex_from_elevation,\n",
    "           vertex_to_elevation,\n",
    "           vertex_length,\n",
    "           vertex_slope,\n",
    "           segment_from_elevation,\n",
    "           segment_to_elevation,\n",
    "           segment_length,\n",
    "           segment_slope,\n",
    "           species_code,\n",
    "           species_name\n",
    "         FROM temp.obs_spp_by_slope \n",
    "         WHERE waterbody_type NOT IN ('X', 'L', 'W')\n",
    "         AND species_code IN ('CH', 'CM', 'CO', 'PK', 'SK')\n",
    "         ORDER BY fish_obsrvtn_distinct_id, species_code\n",
    "\"\"\"\n",
    "all_spp = pandas.read_sql_query(sql, db.engine)"
   ]
  },
  {
   "cell_type": "code",
   "execution_count": 2,
   "metadata": {},
   "outputs": [
    {
     "data": {
      "text/html": [
       "<div>\n",
       "<style scoped>\n",
       "    .dataframe tbody tr th:only-of-type {\n",
       "        vertical-align: middle;\n",
       "    }\n",
       "\n",
       "    .dataframe tbody tr th {\n",
       "        vertical-align: top;\n",
       "    }\n",
       "\n",
       "    .dataframe thead th {\n",
       "        text-align: right;\n",
       "    }\n",
       "</style>\n",
       "<table border=\"1\" class=\"dataframe\">\n",
       "  <thead>\n",
       "    <tr style=\"text-align: right;\">\n",
       "      <th></th>\n",
       "      <th>fish_obsrvtn_distinct_id</th>\n",
       "      <th>edge_description</th>\n",
       "      <th>waterbody_type</th>\n",
       "      <th>vertex_from_elevation</th>\n",
       "      <th>vertex_to_elevation</th>\n",
       "      <th>vertex_length</th>\n",
       "      <th>vertex_slope</th>\n",
       "      <th>segment_from_elevation</th>\n",
       "      <th>segment_to_elevation</th>\n",
       "      <th>segment_length</th>\n",
       "      <th>segment_slope</th>\n",
       "      <th>species_code</th>\n",
       "      <th>species_name</th>\n",
       "    </tr>\n",
       "  </thead>\n",
       "  <tbody>\n",
       "    <tr>\n",
       "      <th>0</th>\n",
       "      <td>5</td>\n",
       "      <td>Construction line, double line river, main flow</td>\n",
       "      <td>R</td>\n",
       "      <td>227.76</td>\n",
       "      <td>227.76</td>\n",
       "      <td>117.76</td>\n",
       "      <td>0.00</td>\n",
       "      <td>227.763</td>\n",
       "      <td>229.251</td>\n",
       "      <td>905.92</td>\n",
       "      <td>0.16</td>\n",
       "      <td>CH</td>\n",
       "      <td>Chinook Salmon</td>\n",
       "    </tr>\n",
       "    <tr>\n",
       "      <th>1</th>\n",
       "      <td>5</td>\n",
       "      <td>Construction line, double line river, main flow</td>\n",
       "      <td>R</td>\n",
       "      <td>227.76</td>\n",
       "      <td>227.76</td>\n",
       "      <td>117.76</td>\n",
       "      <td>0.00</td>\n",
       "      <td>227.763</td>\n",
       "      <td>229.251</td>\n",
       "      <td>905.92</td>\n",
       "      <td>0.16</td>\n",
       "      <td>CO</td>\n",
       "      <td>Coho Salmon</td>\n",
       "    </tr>\n",
       "    <tr>\n",
       "      <th>2</th>\n",
       "      <td>5</td>\n",
       "      <td>Construction line, double line river, main flow</td>\n",
       "      <td>R</td>\n",
       "      <td>227.76</td>\n",
       "      <td>227.76</td>\n",
       "      <td>117.76</td>\n",
       "      <td>0.00</td>\n",
       "      <td>227.763</td>\n",
       "      <td>229.251</td>\n",
       "      <td>905.92</td>\n",
       "      <td>0.16</td>\n",
       "      <td>SK</td>\n",
       "      <td>Sockeye Salmon</td>\n",
       "    </tr>\n",
       "    <tr>\n",
       "      <th>3</th>\n",
       "      <td>6</td>\n",
       "      <td>Construction line, connection</td>\n",
       "      <td>R</td>\n",
       "      <td>122.00</td>\n",
       "      <td>122.00</td>\n",
       "      <td>853.06</td>\n",
       "      <td>0.00</td>\n",
       "      <td>122.000</td>\n",
       "      <td>122.000</td>\n",
       "      <td>867.69</td>\n",
       "      <td>0.00</td>\n",
       "      <td>CO</td>\n",
       "      <td>Coho Salmon</td>\n",
       "    </tr>\n",
       "    <tr>\n",
       "      <th>4</th>\n",
       "      <td>10</td>\n",
       "      <td>Construction line, connection</td>\n",
       "      <td>R</td>\n",
       "      <td>234.25</td>\n",
       "      <td>234.94</td>\n",
       "      <td>421.43</td>\n",
       "      <td>0.17</td>\n",
       "      <td>234.249</td>\n",
       "      <td>235.000</td>\n",
       "      <td>483.99</td>\n",
       "      <td>0.16</td>\n",
       "      <td>CH</td>\n",
       "      <td>Chinook Salmon</td>\n",
       "    </tr>\n",
       "  </tbody>\n",
       "</table>\n",
       "</div>"
      ],
      "text/plain": [
       "   fish_obsrvtn_distinct_id                                 edge_description  \\\n",
       "0                         5  Construction line, double line river, main flow   \n",
       "1                         5  Construction line, double line river, main flow   \n",
       "2                         5  Construction line, double line river, main flow   \n",
       "3                         6                    Construction line, connection   \n",
       "4                        10                    Construction line, connection   \n",
       "\n",
       "  waterbody_type  vertex_from_elevation  vertex_to_elevation  vertex_length  \\\n",
       "0              R                 227.76               227.76         117.76   \n",
       "1              R                 227.76               227.76         117.76   \n",
       "2              R                 227.76               227.76         117.76   \n",
       "3              R                 122.00               122.00         853.06   \n",
       "4              R                 234.25               234.94         421.43   \n",
       "\n",
       "   vertex_slope  segment_from_elevation  segment_to_elevation  segment_length  \\\n",
       "0          0.00                 227.763               229.251          905.92   \n",
       "1          0.00                 227.763               229.251          905.92   \n",
       "2          0.00                 227.763               229.251          905.92   \n",
       "3          0.00                 122.000               122.000          867.69   \n",
       "4          0.17                 234.249               235.000          483.99   \n",
       "\n",
       "   segment_slope species_code    species_name  \n",
       "0           0.16           CH  Chinook Salmon  \n",
       "1           0.16           CO     Coho Salmon  \n",
       "2           0.16           SK  Sockeye Salmon  \n",
       "3           0.00           CO     Coho Salmon  \n",
       "4           0.16           CH  Chinook Salmon  "
      ]
     },
     "execution_count": 2,
     "metadata": {},
     "output_type": "execute_result"
    }
   ],
   "source": [
    "all_spp.head()"
   ]
  },
  {
   "cell_type": "code",
   "execution_count": 3,
   "metadata": {},
   "outputs": [
    {
     "data": {
      "text/html": [
       "<div>\n",
       "<style scoped>\n",
       "    .dataframe tbody tr th:only-of-type {\n",
       "        vertical-align: middle;\n",
       "    }\n",
       "\n",
       "    .dataframe tbody tr th {\n",
       "        vertical-align: top;\n",
       "    }\n",
       "\n",
       "    .dataframe thead th {\n",
       "        text-align: right;\n",
       "    }\n",
       "</style>\n",
       "<table border=\"1\" class=\"dataframe\">\n",
       "  <thead>\n",
       "    <tr style=\"text-align: right;\">\n",
       "      <th></th>\n",
       "      <th>fish_obsrvtn_distinct_id</th>\n",
       "      <th>vertex_from_elevation</th>\n",
       "      <th>vertex_to_elevation</th>\n",
       "      <th>vertex_length</th>\n",
       "      <th>vertex_slope</th>\n",
       "      <th>segment_from_elevation</th>\n",
       "      <th>segment_to_elevation</th>\n",
       "      <th>segment_length</th>\n",
       "      <th>segment_slope</th>\n",
       "    </tr>\n",
       "  </thead>\n",
       "  <tbody>\n",
       "    <tr>\n",
       "      <th>count</th>\n",
       "      <td>10494.000000</td>\n",
       "      <td>10494.000000</td>\n",
       "      <td>10494.000000</td>\n",
       "      <td>10494.000000</td>\n",
       "      <td>10494.000000</td>\n",
       "      <td>10494.000000</td>\n",
       "      <td>10494.000000</td>\n",
       "      <td>10494.000000</td>\n",
       "      <td>10494.000000</td>\n",
       "    </tr>\n",
       "    <tr>\n",
       "      <th>mean</th>\n",
       "      <td>24276.691538</td>\n",
       "      <td>208.440494</td>\n",
       "      <td>209.263219</td>\n",
       "      <td>109.124568</td>\n",
       "      <td>7.359646</td>\n",
       "      <td>208.440453</td>\n",
       "      <td>213.259379</td>\n",
       "      <td>606.089464</td>\n",
       "      <td>1.031920</td>\n",
       "    </tr>\n",
       "    <tr>\n",
       "      <th>std</th>\n",
       "      <td>17401.897537</td>\n",
       "      <td>268.308207</td>\n",
       "      <td>268.084122</td>\n",
       "      <td>154.479173</td>\n",
       "      <td>541.930431</td>\n",
       "      <td>268.308068</td>\n",
       "      <td>268.218727</td>\n",
       "      <td>657.611423</td>\n",
       "      <td>3.599174</td>\n",
       "    </tr>\n",
       "    <tr>\n",
       "      <th>min</th>\n",
       "      <td>5.000000</td>\n",
       "      <td>1.000000</td>\n",
       "      <td>1.000000</td>\n",
       "      <td>0.000000</td>\n",
       "      <td>0.000000</td>\n",
       "      <td>1.000000</td>\n",
       "      <td>1.000000</td>\n",
       "      <td>3.960000</td>\n",
       "      <td>0.000000</td>\n",
       "    </tr>\n",
       "    <tr>\n",
       "      <th>25%</th>\n",
       "      <td>9519.250000</td>\n",
       "      <td>15.000000</td>\n",
       "      <td>15.260000</td>\n",
       "      <td>36.280000</td>\n",
       "      <td>0.000000</td>\n",
       "      <td>15.000000</td>\n",
       "      <td>18.203000</td>\n",
       "      <td>189.460000</td>\n",
       "      <td>0.020000</td>\n",
       "    </tr>\n",
       "    <tr>\n",
       "      <th>50%</th>\n",
       "      <td>20404.000000</td>\n",
       "      <td>69.150000</td>\n",
       "      <td>69.690000</td>\n",
       "      <td>67.060000</td>\n",
       "      <td>0.310000</td>\n",
       "      <td>69.148000</td>\n",
       "      <td>74.541000</td>\n",
       "      <td>407.220000</td>\n",
       "      <td>0.370000</td>\n",
       "    </tr>\n",
       "    <tr>\n",
       "      <th>75%</th>\n",
       "      <td>36644.000000</td>\n",
       "      <td>342.330000</td>\n",
       "      <td>343.000000</td>\n",
       "      <td>127.667500</td>\n",
       "      <td>1.407500</td>\n",
       "      <td>342.330000</td>\n",
       "      <td>348.500000</td>\n",
       "      <td>804.717500</td>\n",
       "      <td>1.040000</td>\n",
       "    </tr>\n",
       "    <tr>\n",
       "      <th>max</th>\n",
       "      <td>68367.000000</td>\n",
       "      <td>1318.000000</td>\n",
       "      <td>1318.150000</td>\n",
       "      <td>2993.610000</td>\n",
       "      <td>55499.900000</td>\n",
       "      <td>1318.000000</td>\n",
       "      <td>1320.000000</td>\n",
       "      <td>8153.200000</td>\n",
       "      <td>90.060000</td>\n",
       "    </tr>\n",
       "  </tbody>\n",
       "</table>\n",
       "</div>"
      ],
      "text/plain": [
       "       fish_obsrvtn_distinct_id  vertex_from_elevation  vertex_to_elevation  \\\n",
       "count              10494.000000           10494.000000         10494.000000   \n",
       "mean               24276.691538             208.440494           209.263219   \n",
       "std                17401.897537             268.308207           268.084122   \n",
       "min                    5.000000               1.000000             1.000000   \n",
       "25%                 9519.250000              15.000000            15.260000   \n",
       "50%                20404.000000              69.150000            69.690000   \n",
       "75%                36644.000000             342.330000           343.000000   \n",
       "max                68367.000000            1318.000000          1318.150000   \n",
       "\n",
       "       vertex_length  vertex_slope  segment_from_elevation  \\\n",
       "count   10494.000000  10494.000000            10494.000000   \n",
       "mean      109.124568      7.359646              208.440453   \n",
       "std       154.479173    541.930431              268.308068   \n",
       "min         0.000000      0.000000                1.000000   \n",
       "25%        36.280000      0.000000               15.000000   \n",
       "50%        67.060000      0.310000               69.148000   \n",
       "75%       127.667500      1.407500              342.330000   \n",
       "max      2993.610000  55499.900000             1318.000000   \n",
       "\n",
       "       segment_to_elevation  segment_length  segment_slope  \n",
       "count          10494.000000    10494.000000   10494.000000  \n",
       "mean             213.259379      606.089464       1.031920  \n",
       "std              268.218727      657.611423       3.599174  \n",
       "min                1.000000        3.960000       0.000000  \n",
       "25%               18.203000      189.460000       0.020000  \n",
       "50%               74.541000      407.220000       0.370000  \n",
       "75%              348.500000      804.717500       1.040000  \n",
       "max             1320.000000     8153.200000      90.060000  "
      ]
     },
     "execution_count": 3,
     "metadata": {},
     "output_type": "execute_result"
    }
   ],
   "source": [
    "all_spp.describe()"
   ]
  },
  {
   "cell_type": "code",
   "execution_count": 5,
   "metadata": {},
   "outputs": [
    {
     "data": {
      "text/html": [
       "<div>\n",
       "<style scoped>\n",
       "    .dataframe tbody tr th:only-of-type {\n",
       "        vertical-align: middle;\n",
       "    }\n",
       "\n",
       "    .dataframe tbody tr th {\n",
       "        vertical-align: top;\n",
       "    }\n",
       "\n",
       "    .dataframe thead th {\n",
       "        text-align: right;\n",
       "    }\n",
       "</style>\n",
       "<table border=\"1\" class=\"dataframe\">\n",
       "  <thead>\n",
       "    <tr style=\"text-align: right;\">\n",
       "      <th></th>\n",
       "      <th>fish_obsrvtn_distinct_id</th>\n",
       "      <th>vertex_from_elevation</th>\n",
       "      <th>vertex_to_elevation</th>\n",
       "      <th>vertex_length</th>\n",
       "      <th>vertex_slope</th>\n",
       "      <th>segment_from_elevation</th>\n",
       "      <th>segment_to_elevation</th>\n",
       "      <th>segment_length</th>\n",
       "      <th>segment_slope</th>\n",
       "    </tr>\n",
       "  </thead>\n",
       "  <tbody>\n",
       "    <tr>\n",
       "      <th>count</th>\n",
       "      <td>6403.000000</td>\n",
       "      <td>6403.000000</td>\n",
       "      <td>6403.000000</td>\n",
       "      <td>6403.000000</td>\n",
       "      <td>6403.000000</td>\n",
       "      <td>6403.000000</td>\n",
       "      <td>6403.000000</td>\n",
       "      <td>6403.000000</td>\n",
       "      <td>6403.000000</td>\n",
       "    </tr>\n",
       "    <tr>\n",
       "      <th>mean</th>\n",
       "      <td>25759.329377</td>\n",
       "      <td>236.389541</td>\n",
       "      <td>237.122974</td>\n",
       "      <td>108.641829</td>\n",
       "      <td>10.306866</td>\n",
       "      <td>236.389483</td>\n",
       "      <td>241.064108</td>\n",
       "      <td>611.718443</td>\n",
       "      <td>0.888140</td>\n",
       "    </tr>\n",
       "    <tr>\n",
       "      <th>std</th>\n",
       "      <td>17821.096418</td>\n",
       "      <td>283.040101</td>\n",
       "      <td>282.853304</td>\n",
       "      <td>147.055344</td>\n",
       "      <td>693.643926</td>\n",
       "      <td>283.039950</td>\n",
       "      <td>282.840102</td>\n",
       "      <td>638.292128</td>\n",
       "      <td>2.554404</td>\n",
       "    </tr>\n",
       "    <tr>\n",
       "      <th>min</th>\n",
       "      <td>5.000000</td>\n",
       "      <td>1.000000</td>\n",
       "      <td>1.000000</td>\n",
       "      <td>0.000000</td>\n",
       "      <td>0.000000</td>\n",
       "      <td>1.000000</td>\n",
       "      <td>1.000000</td>\n",
       "      <td>3.960000</td>\n",
       "      <td>0.000000</td>\n",
       "    </tr>\n",
       "    <tr>\n",
       "      <th>25%</th>\n",
       "      <td>10142.000000</td>\n",
       "      <td>19.000000</td>\n",
       "      <td>19.280000</td>\n",
       "      <td>36.095000</td>\n",
       "      <td>0.000000</td>\n",
       "      <td>19.000000</td>\n",
       "      <td>23.134000</td>\n",
       "      <td>200.085000</td>\n",
       "      <td>0.010000</td>\n",
       "    </tr>\n",
       "    <tr>\n",
       "      <th>50%</th>\n",
       "      <td>23648.000000</td>\n",
       "      <td>86.750000</td>\n",
       "      <td>87.340000</td>\n",
       "      <td>67.460000</td>\n",
       "      <td>0.280000</td>\n",
       "      <td>86.751000</td>\n",
       "      <td>91.997000</td>\n",
       "      <td>411.970000</td>\n",
       "      <td>0.340000</td>\n",
       "    </tr>\n",
       "    <tr>\n",
       "      <th>75%</th>\n",
       "      <td>39607.000000</td>\n",
       "      <td>410.670000</td>\n",
       "      <td>411.620000</td>\n",
       "      <td>130.150000</td>\n",
       "      <td>1.280000</td>\n",
       "      <td>410.667000</td>\n",
       "      <td>423.922000</td>\n",
       "      <td>823.850000</td>\n",
       "      <td>0.980000</td>\n",
       "    </tr>\n",
       "    <tr>\n",
       "      <th>max</th>\n",
       "      <td>68367.000000</td>\n",
       "      <td>1318.000000</td>\n",
       "      <td>1318.150000</td>\n",
       "      <td>2993.610000</td>\n",
       "      <td>55499.900000</td>\n",
       "      <td>1318.000000</td>\n",
       "      <td>1320.000000</td>\n",
       "      <td>8153.200000</td>\n",
       "      <td>90.060000</td>\n",
       "    </tr>\n",
       "  </tbody>\n",
       "</table>\n",
       "</div>"
      ],
      "text/plain": [
       "       fish_obsrvtn_distinct_id  vertex_from_elevation  vertex_to_elevation  \\\n",
       "count               6403.000000            6403.000000          6403.000000   \n",
       "mean               25759.329377             236.389541           237.122974   \n",
       "std                17821.096418             283.040101           282.853304   \n",
       "min                    5.000000               1.000000             1.000000   \n",
       "25%                10142.000000              19.000000            19.280000   \n",
       "50%                23648.000000              86.750000            87.340000   \n",
       "75%                39607.000000             410.670000           411.620000   \n",
       "max                68367.000000            1318.000000          1318.150000   \n",
       "\n",
       "       vertex_length  vertex_slope  segment_from_elevation  \\\n",
       "count    6403.000000   6403.000000             6403.000000   \n",
       "mean      108.641829     10.306866              236.389483   \n",
       "std       147.055344    693.643926              283.039950   \n",
       "min         0.000000      0.000000                1.000000   \n",
       "25%        36.095000      0.000000               19.000000   \n",
       "50%        67.460000      0.280000               86.751000   \n",
       "75%       130.150000      1.280000              410.667000   \n",
       "max      2993.610000  55499.900000             1318.000000   \n",
       "\n",
       "       segment_to_elevation  segment_length  segment_slope  \n",
       "count           6403.000000     6403.000000    6403.000000  \n",
       "mean             241.064108      611.718443       0.888140  \n",
       "std              282.840102      638.292128       2.554404  \n",
       "min                1.000000        3.960000       0.000000  \n",
       "25%               23.134000      200.085000       0.010000  \n",
       "50%               91.997000      411.970000       0.340000  \n",
       "75%              423.922000      823.850000       0.980000  \n",
       "max             1320.000000     8153.200000      90.060000  "
      ]
     },
     "execution_count": 5,
     "metadata": {},
     "output_type": "execute_result"
    }
   ],
   "source": [
    "# describing the unique observations that we are working with is probably more valuable\n",
    "unique_pts = all_spp.drop_duplicates('fish_obsrvtn_distinct_id')\n",
    "unique_pts.describe()"
   ]
  },
  {
   "cell_type": "code",
   "execution_count": 6,
   "metadata": {},
   "outputs": [
    {
     "data": {
      "text/plain": [
       "<matplotlib.axes._subplots.AxesSubplot at 0x115b37860>"
      ]
     },
     "execution_count": 6,
     "metadata": {},
     "output_type": "execute_result"
    },
    {
     "data": {
      "image/png": "[encoded data removed]",
      "text/plain": [
       "<Figure size 432x288 with 1 Axes>"
      ]
     },
     "metadata": {},
     "output_type": "display_data"
    }
   ],
   "source": [
    "# how many unique locations per spp?\n",
    "pandas.value_counts(all_spp['species_code']).plot.bar()"
   ]
  },
  {
   "cell_type": "code",
   "execution_count": 37,
   "metadata": {},
   "outputs": [
    {
     "data": {
      "text/plain": [
       "<matplotlib.axes._subplots.AxesSubplot at 0x1172a9908>"
      ]
     },
     "execution_count": 37,
     "metadata": {},
     "output_type": "execute_result"
    },
    {
     "data": {
      "image/png": "[encoded data removed]",
      "text/plain": [
       "<Figure size 432x288 with 1 Axes>"
      ]
     },
     "metadata": {},
     "output_type": "display_data"
    }
   ],
   "source": [
    "# generally compare the two slope values, where length of the edge between vertices is > 5m\n",
    "edge_gt1m = unique_pts[unique_pts['vertex_length'] > 5]\n",
    "\n",
    "diff = edge_gt1m['vertex_slope'] - edge_gt1m['segment_slope']\n",
    "diff = diff.abs()\n",
    "diff.hist(bins=30)"
   ]
  },
  {
   "cell_type": "code",
   "execution_count": 7,
   "metadata": {},
   "outputs": [
    {
     "data": {
      "text/plain": [
       "array([[<matplotlib.axes._subplots.AxesSubplot object at 0x1153263c8>]],\n",
       "      dtype=object)"
      ]
     },
     "execution_count": 7,
     "metadata": {},
     "output_type": "execute_result"
    },
    {
     "data": {
      "image/png": "[encoded data removed]",
      "text/plain": [
       "<Figure size 432x288 with 1 Axes>"
      ]
     },
     "metadata": {},
     "output_type": "display_data"
    }
   ],
   "source": [
    "# histogram of slopes between vertexes where slope < 100%\n",
    "unique_pts[unique_pts['vertex_slope'] < 100].hist(column='vertex_slope', bins=20)"
   ]
  },
  {
   "cell_type": "code",
   "execution_count": 8,
   "metadata": {},
   "outputs": [
    {
     "data": {
      "text/plain": [
       "array([[<matplotlib.axes._subplots.AxesSubplot object at 0x1155ba4e0>]],\n",
       "      dtype=object)"
      ]
     },
     "execution_count": 8,
     "metadata": {},
     "output_type": "execute_result"
    },
    {
     "data": {
      "image/png": "[encoded data removed]",
      "text/plain": [
       "<Figure size 432x288 with 1 Axes>"
      ]
     },
     "metadata": {},
     "output_type": "display_data"
    }
   ],
   "source": [
    "# histogram of slopes between vertexes where slope < 20%\n",
    "unique_pts[unique_pts['vertex_slope'] < 20].hist(column='vertex_slope', bins=20)"
   ]
  },
  {
   "cell_type": "code",
   "execution_count": 9,
   "metadata": {},
   "outputs": [
    {
     "data": {
      "text/plain": [
       "array([[<matplotlib.axes._subplots.AxesSubplot object at 0x115939588>]],\n",
       "      dtype=object)"
      ]
     },
     "execution_count": 9,
     "metadata": {},
     "output_type": "execute_result"
    },
    {
     "data": {
      "image/png": "[encoded data removed]",
      "text/plain": [
       "<Figure size 432x288 with 1 Axes>"
      ]
     },
     "metadata": {},
     "output_type": "display_data"
    }
   ],
   "source": [
    "# histogram of segment slopes where slope < 20%\n",
    "unique_pts[unique_pts['segment_slope'] < 20].hist(column='segment_slope', bins=20)"
   ]
  },
  {
   "cell_type": "code",
   "execution_count": 10,
   "metadata": {},
   "outputs": [
    {
     "data": {
      "text/plain": [
       "<matplotlib.axes._subplots.AxesSubplot at 0x1158bddd8>"
      ]
     },
     "execution_count": 10,
     "metadata": {},
     "output_type": "execute_result"
    },
    {
     "data": {
      "image/png": "[encoded data removed]",
      "text/plain": [
       "<Figure size 432x288 with 1 Axes>"
      ]
     },
     "metadata": {},
     "output_type": "display_data"
    }
   ],
   "source": [
    "# try a box plot for all unique points, segment slopes 5 - 20%\n",
    "\n",
    "df = unique_pts[unique_pts['segment_slope'] < 20]\n",
    "df[df['segment_slope'] > 0].boxplot(column=['segment_slope'])"
   ]
  },
  {
   "cell_type": "code",
   "execution_count": 11,
   "metadata": {},
   "outputs": [
    {
     "data": {
      "text/plain": [
       "<matplotlib.axes._subplots.AxesSubplot at 0x1153f3f98>"
      ]
     },
     "execution_count": 11,
     "metadata": {},
     "output_type": "execute_result"
    },
    {
     "data": {
      "image/png": "[encoded data removed]",
      "text/plain": [
       "<Figure size 432x288 with 1 Axes>"
      ]
     },
     "metadata": {},
     "output_type": "display_data"
    }
   ],
   "source": [
    "df_sp = df[df['species_code'] == 'CM']\n",
    "df_sp = df_sp[df_sp['segment_slope'] < 20] \n",
    "df_sp = df_sp[df_sp['segment_slope'] > 5] \n",
    "df_sp.boxplot(column=['segment_slope'])"
   ]
  },
  {
   "cell_type": "code",
   "execution_count": 12,
   "metadata": {},
   "outputs": [
    {
     "data": {
      "text/plain": [
       "<matplotlib.axes._subplots.AxesSubplot at 0x115616780>"
      ]
     },
     "execution_count": 12,
     "metadata": {},
     "output_type": "execute_result"
    },
    {
     "data": {
      "image/png": "[encoded data removed]",
      "text/plain": [
       "<Figure size 432x288 with 1 Axes>"
      ]
     },
     "metadata": {},
     "output_type": "display_data"
    }
   ],
   "source": [
    "# CM\n",
    "df_sp = df[df['species_code'] == 'CM']\n",
    "df_sp = df_sp[df_sp['segment_slope'] < 20] \n",
    "df_sp = df_sp[df_sp['segment_slope'] > 5] \n",
    "df_sp.boxplot(column=['segment_slope'])"
   ]
  },
  {
   "cell_type": "code",
   "execution_count": 13,
   "metadata": {},
   "outputs": [
    {
     "data": {
      "text/plain": [
       "<matplotlib.axes._subplots.AxesSubplot at 0x1159cf0b8>"
      ]
     },
     "execution_count": 13,
     "metadata": {},
     "output_type": "execute_result"
    },
    {
     "data": {
      "image/png": "[encoded data removed]",
      "text/plain": [
       "<Figure size 432x288 with 1 Axes>"
      ]
     },
     "metadata": {},
     "output_type": "display_data"
    }
   ],
   "source": [
    "df_sp = df[df['species_code'] == 'CO']\n",
    "df_sp = df_sp[df_sp['segment_slope'] < 20] \n",
    "df_sp = df_sp[df_sp['segment_slope'] > 5] \n",
    "df_sp.boxplot(column=['segment_slope'])"
   ]
  },
  {
   "cell_type": "code",
   "execution_count": 14,
   "metadata": {},
   "outputs": [
    {
     "data": {
      "text/plain": [
       "<matplotlib.axes._subplots.AxesSubplot at 0x1151f5c88>"
      ]
     },
     "execution_count": 14,
     "metadata": {},
     "output_type": "execute_result"
    },
    {
     "data": {
      "image/png": "[encoded data removed]",
      "text/plain": [
       "<Figure size 432x288 with 1 Axes>"
      ]
     },
     "metadata": {},
     "output_type": "display_data"
    }
   ],
   "source": [
    "df_sp = df[df['species_code'] == 'PK']\n",
    "df_sp = df_sp[df_sp['segment_slope'] < 20] \n",
    "df_sp = df_sp[df_sp['segment_slope'] > 5] \n",
    "df_sp.boxplot(column=['segment_slope'])"
   ]
  },
  {
   "cell_type": "code",
   "execution_count": 39,
   "metadata": {},
   "outputs": [
    {
     "data": {
      "text/plain": [
       "<matplotlib.axes._subplots.AxesSubplot at 0x1174a7c88>"
      ]
     },
     "execution_count": 39,
     "metadata": {},
     "output_type": "execute_result"
    },
    {
     "data": {
      "image/png": "[encoded data removed]",
      "text/plain": [
       "<Figure size 432x288 with 1 Axes>"
      ]
     },
     "metadata": {},
     "output_type": "display_data"
    }
   ],
   "source": [
    "df_sp = df[df['species_code'] == 'SK']\n",
    "df_sp = df_sp[df_sp['segment_slope'] < 20] \n",
    "df_sp = df_sp[df_sp['segment_slope'] > 5] \n",
    "df_sp.boxplot(column=['segment_slope'])"
   ]
  },
  {
   "cell_type": "code",
   "execution_count": 41,
   "metadata": {},
   "outputs": [
    {
     "data": {
      "text/plain": [
       "<matplotlib.axes._subplots.AxesSubplot at 0x11767fd30>"
      ]
     },
     "execution_count": 41,
     "metadata": {},
     "output_type": "execute_result"
    },
    {
     "data": {
      "image/png": "[encoded data removed]",
      "text/plain": [
       "<Figure size 432x288 with 1 Axes>"
      ]
     },
     "metadata": {},
     "output_type": "display_data"
    }
   ],
   "source": [
    "# try boxplot of all spp\n",
    "df_sp = all_spp\n",
    "df_sp = df_sp[df_sp['segment_slope'] < 20] \n",
    "df_sp = df_sp[df_sp['segment_slope'] > 5] \n",
    "df_sp.boxplot(column='segment_slope', by='species_code')"
   ]
  },
  {
   "cell_type": "code",
   "execution_count": null,
   "metadata": {},
   "outputs": [],
   "source": []
  }
 ],
 "metadata": {
  "kernelspec": {
   "display_name": "Python 3",
   "language": "python",
   "name": "python3"
  },
  "language_info": {
   "codemirror_mode": {
    "name": "ipython",
    "version": 3
   },
   "file_extension": ".py",
   "mimetype": "text/x-python",
   "name": "python",
   "nbconvert_exporter": "python",
   "pygments_lexer": "ipython3",
   "version": "3.6.5"
  }
 },
 "nbformat": 4,
 "nbformat_minor": 2
}
