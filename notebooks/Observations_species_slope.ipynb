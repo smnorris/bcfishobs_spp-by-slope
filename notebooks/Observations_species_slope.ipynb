{
 "cells": [
  {
   "cell_type": "code",
   "execution_count": 60,
   "metadata": {},
   "outputs": [],
   "source": [
    "%matplotlib inline\n",
    "\n",
    "import pandas\n",
    "\n",
    "import pgdata\n",
    "\n",
    "db = pgdata.connect()\n",
    "\n",
    "# get salmon records that aren't in waterbodies\n",
    "sql = \"\"\"SELECT \n",
    "           fish_obsrvtn_distinct_id,\n",
    "           edge_description, \n",
    "           waterbody_type,\n",
    "           vertex_from_elevation,\n",
    "           vertex_to_elevation,\n",
    "           vertex_length,\n",
    "           vertex_slope,\n",
    "           segment_from_elevation,\n",
    "           segment_to_elevation,\n",
    "           segment_length,\n",
    "           segment_slope,\n",
    "           species_code,\n",
    "           species_name\n",
    "         FROM temp.obs_spp_by_slope \n",
    "         WHERE waterbody_type NOT IN ('X', 'L', 'W')\n",
    "         AND species_code IN ('CH', 'CM', 'CO', 'PK', 'SK')\n",
    "         ORDER BY fish_obsrvtn_distinct_id, species_code\n",
    "\"\"\"\n",
    "df = pandas.read_sql_query(sql, db.engine)"
   ]
  },
  {
   "cell_type": "code",
   "execution_count": 61,
   "metadata": {},
   "outputs": [
    {
     "data": {
      "text/html": [
       "<div>\n",
       "<style scoped>\n",
       "    .dataframe tbody tr th:only-of-type {\n",
       "        vertical-align: middle;\n",
       "    }\n",
       "\n",
       "    .dataframe tbody tr th {\n",
       "        vertical-align: top;\n",
       "    }\n",
       "\n",
       "    .dataframe thead th {\n",
       "        text-align: right;\n",
       "    }\n",
       "</style>\n",
       "<table border=\"1\" class=\"dataframe\">\n",
       "  <thead>\n",
       "    <tr style=\"text-align: right;\">\n",
       "      <th></th>\n",
       "      <th>fish_obsrvtn_distinct_id</th>\n",
       "      <th>edge_description</th>\n",
       "      <th>waterbody_type</th>\n",
       "      <th>vertex_from_elevation</th>\n",
       "      <th>vertex_to_elevation</th>\n",
       "      <th>vertex_length</th>\n",
       "      <th>vertex_slope</th>\n",
       "      <th>segment_from_elevation</th>\n",
       "      <th>segment_to_elevation</th>\n",
       "      <th>segment_length</th>\n",
       "      <th>segment_slope</th>\n",
       "      <th>species_code</th>\n",
       "      <th>species_name</th>\n",
       "    </tr>\n",
       "  </thead>\n",
       "  <tbody>\n",
       "    <tr>\n",
       "      <th>0</th>\n",
       "      <td>5</td>\n",
       "      <td>Construction line, double line river, main flow</td>\n",
       "      <td>R</td>\n",
       "      <td>227.76</td>\n",
       "      <td>227.76</td>\n",
       "      <td>117.76</td>\n",
       "      <td>0.00</td>\n",
       "      <td>227.763</td>\n",
       "      <td>229.251</td>\n",
       "      <td>905.92</td>\n",
       "      <td>0.16</td>\n",
       "      <td>CH</td>\n",
       "      <td>Chinook Salmon</td>\n",
       "    </tr>\n",
       "    <tr>\n",
       "      <th>1</th>\n",
       "      <td>5</td>\n",
       "      <td>Construction line, double line river, main flow</td>\n",
       "      <td>R</td>\n",
       "      <td>227.76</td>\n",
       "      <td>227.76</td>\n",
       "      <td>117.76</td>\n",
       "      <td>0.00</td>\n",
       "      <td>227.763</td>\n",
       "      <td>229.251</td>\n",
       "      <td>905.92</td>\n",
       "      <td>0.16</td>\n",
       "      <td>CO</td>\n",
       "      <td>Coho Salmon</td>\n",
       "    </tr>\n",
       "    <tr>\n",
       "      <th>2</th>\n",
       "      <td>5</td>\n",
       "      <td>Construction line, double line river, main flow</td>\n",
       "      <td>R</td>\n",
       "      <td>227.76</td>\n",
       "      <td>227.76</td>\n",
       "      <td>117.76</td>\n",
       "      <td>0.00</td>\n",
       "      <td>227.763</td>\n",
       "      <td>229.251</td>\n",
       "      <td>905.92</td>\n",
       "      <td>0.16</td>\n",
       "      <td>SK</td>\n",
       "      <td>Sockeye Salmon</td>\n",
       "    </tr>\n",
       "    <tr>\n",
       "      <th>3</th>\n",
       "      <td>6</td>\n",
       "      <td>Construction line, connection</td>\n",
       "      <td>R</td>\n",
       "      <td>122.00</td>\n",
       "      <td>122.00</td>\n",
       "      <td>853.06</td>\n",
       "      <td>0.00</td>\n",
       "      <td>122.000</td>\n",
       "      <td>122.000</td>\n",
       "      <td>867.69</td>\n",
       "      <td>0.00</td>\n",
       "      <td>CO</td>\n",
       "      <td>Coho Salmon</td>\n",
       "    </tr>\n",
       "    <tr>\n",
       "      <th>4</th>\n",
       "      <td>10</td>\n",
       "      <td>Construction line, connection</td>\n",
       "      <td>R</td>\n",
       "      <td>234.25</td>\n",
       "      <td>234.94</td>\n",
       "      <td>421.43</td>\n",
       "      <td>0.17</td>\n",
       "      <td>234.249</td>\n",
       "      <td>235.000</td>\n",
       "      <td>483.99</td>\n",
       "      <td>0.16</td>\n",
       "      <td>CH</td>\n",
       "      <td>Chinook Salmon</td>\n",
       "    </tr>\n",
       "  </tbody>\n",
       "</table>\n",
       "</div>"
      ],
      "text/plain": [
       "   fish_obsrvtn_distinct_id                                 edge_description  \\\n",
       "0                         5  Construction line, double line river, main flow   \n",
       "1                         5  Construction line, double line river, main flow   \n",
       "2                         5  Construction line, double line river, main flow   \n",
       "3                         6                    Construction line, connection   \n",
       "4                        10                    Construction line, connection   \n",
       "\n",
       "  waterbody_type  vertex_from_elevation  vertex_to_elevation  vertex_length  \\\n",
       "0              R                 227.76               227.76         117.76   \n",
       "1              R                 227.76               227.76         117.76   \n",
       "2              R                 227.76               227.76         117.76   \n",
       "3              R                 122.00               122.00         853.06   \n",
       "4              R                 234.25               234.94         421.43   \n",
       "\n",
       "   vertex_slope  segment_from_elevation  segment_to_elevation  segment_length  \\\n",
       "0          0.00                 227.763               229.251          905.92   \n",
       "1          0.00                 227.763               229.251          905.92   \n",
       "2          0.00                 227.763               229.251          905.92   \n",
       "3          0.00                 122.000               122.000          867.69   \n",
       "4          0.17                 234.249               235.000          483.99   \n",
       "\n",
       "   segment_slope species_code    species_name  \n",
       "0           0.16           CH  Chinook Salmon  \n",
       "1           0.16           CO     Coho Salmon  \n",
       "2           0.16           SK  Sockeye Salmon  \n",
       "3           0.00           CO     Coho Salmon  \n",
       "4           0.16           CH  Chinook Salmon  "
      ]
     },
     "execution_count": 61,
     "metadata": {},
     "output_type": "execute_result"
    }
   ],
   "source": [
    "df.head()"
   ]
  },
  {
   "cell_type": "code",
   "execution_count": 62,
   "metadata": {},
   "outputs": [
    {
     "data": {
      "text/html": [
       "<div>\n",
       "<style scoped>\n",
       "    .dataframe tbody tr th:only-of-type {\n",
       "        vertical-align: middle;\n",
       "    }\n",
       "\n",
       "    .dataframe tbody tr th {\n",
       "        vertical-align: top;\n",
       "    }\n",
       "\n",
       "    .dataframe thead th {\n",
       "        text-align: right;\n",
       "    }\n",
       "</style>\n",
       "<table border=\"1\" class=\"dataframe\">\n",
       "  <thead>\n",
       "    <tr style=\"text-align: right;\">\n",
       "      <th></th>\n",
       "      <th>fish_obsrvtn_distinct_id</th>\n",
       "      <th>vertex_from_elevation</th>\n",
       "      <th>vertex_to_elevation</th>\n",
       "      <th>vertex_length</th>\n",
       "      <th>vertex_slope</th>\n",
       "      <th>segment_from_elevation</th>\n",
       "      <th>segment_to_elevation</th>\n",
       "      <th>segment_length</th>\n",
       "      <th>segment_slope</th>\n",
       "    </tr>\n",
       "  </thead>\n",
       "  <tbody>\n",
       "    <tr>\n",
       "      <th>count</th>\n",
       "      <td>10494.000000</td>\n",
       "      <td>10494.000000</td>\n",
       "      <td>10494.000000</td>\n",
       "      <td>10494.000000</td>\n",
       "      <td>10494.000000</td>\n",
       "      <td>10494.000000</td>\n",
       "      <td>10494.000000</td>\n",
       "      <td>10494.000000</td>\n",
       "      <td>10494.000000</td>\n",
       "    </tr>\n",
       "    <tr>\n",
       "      <th>mean</th>\n",
       "      <td>24276.691538</td>\n",
       "      <td>208.440494</td>\n",
       "      <td>209.263219</td>\n",
       "      <td>109.124568</td>\n",
       "      <td>7.359646</td>\n",
       "      <td>208.440453</td>\n",
       "      <td>213.259379</td>\n",
       "      <td>606.089464</td>\n",
       "      <td>1.031920</td>\n",
       "    </tr>\n",
       "    <tr>\n",
       "      <th>std</th>\n",
       "      <td>17401.897537</td>\n",
       "      <td>268.308207</td>\n",
       "      <td>268.084122</td>\n",
       "      <td>154.479173</td>\n",
       "      <td>541.930431</td>\n",
       "      <td>268.308068</td>\n",
       "      <td>268.218727</td>\n",
       "      <td>657.611423</td>\n",
       "      <td>3.599174</td>\n",
       "    </tr>\n",
       "    <tr>\n",
       "      <th>min</th>\n",
       "      <td>5.000000</td>\n",
       "      <td>1.000000</td>\n",
       "      <td>1.000000</td>\n",
       "      <td>0.000000</td>\n",
       "      <td>0.000000</td>\n",
       "      <td>1.000000</td>\n",
       "      <td>1.000000</td>\n",
       "      <td>3.960000</td>\n",
       "      <td>0.000000</td>\n",
       "    </tr>\n",
       "    <tr>\n",
       "      <th>25%</th>\n",
       "      <td>9519.250000</td>\n",
       "      <td>15.000000</td>\n",
       "      <td>15.260000</td>\n",
       "      <td>36.280000</td>\n",
       "      <td>0.000000</td>\n",
       "      <td>15.000000</td>\n",
       "      <td>18.203000</td>\n",
       "      <td>189.460000</td>\n",
       "      <td>0.020000</td>\n",
       "    </tr>\n",
       "    <tr>\n",
       "      <th>50%</th>\n",
       "      <td>20404.000000</td>\n",
       "      <td>69.150000</td>\n",
       "      <td>69.690000</td>\n",
       "      <td>67.060000</td>\n",
       "      <td>0.310000</td>\n",
       "      <td>69.148000</td>\n",
       "      <td>74.541000</td>\n",
       "      <td>407.220000</td>\n",
       "      <td>0.370000</td>\n",
       "    </tr>\n",
       "    <tr>\n",
       "      <th>75%</th>\n",
       "      <td>36644.000000</td>\n",
       "      <td>342.330000</td>\n",
       "      <td>343.000000</td>\n",
       "      <td>127.667500</td>\n",
       "      <td>1.407500</td>\n",
       "      <td>342.330000</td>\n",
       "      <td>348.500000</td>\n",
       "      <td>804.717500</td>\n",
       "      <td>1.040000</td>\n",
       "    </tr>\n",
       "    <tr>\n",
       "      <th>max</th>\n",
       "      <td>68367.000000</td>\n",
       "      <td>1318.000000</td>\n",
       "      <td>1318.150000</td>\n",
       "      <td>2993.610000</td>\n",
       "      <td>55499.900000</td>\n",
       "      <td>1318.000000</td>\n",
       "      <td>1320.000000</td>\n",
       "      <td>8153.200000</td>\n",
       "      <td>90.060000</td>\n",
       "    </tr>\n",
       "  </tbody>\n",
       "</table>\n",
       "</div>"
      ],
      "text/plain": [
       "       fish_obsrvtn_distinct_id  vertex_from_elevation  vertex_to_elevation  \\\n",
       "count              10494.000000           10494.000000         10494.000000   \n",
       "mean               24276.691538             208.440494           209.263219   \n",
       "std                17401.897537             268.308207           268.084122   \n",
       "min                    5.000000               1.000000             1.000000   \n",
       "25%                 9519.250000              15.000000            15.260000   \n",
       "50%                20404.000000              69.150000            69.690000   \n",
       "75%                36644.000000             342.330000           343.000000   \n",
       "max                68367.000000            1318.000000          1318.150000   \n",
       "\n",
       "       vertex_length  vertex_slope  segment_from_elevation  \\\n",
       "count   10494.000000  10494.000000            10494.000000   \n",
       "mean      109.124568      7.359646              208.440453   \n",
       "std       154.479173    541.930431              268.308068   \n",
       "min         0.000000      0.000000                1.000000   \n",
       "25%        36.280000      0.000000               15.000000   \n",
       "50%        67.060000      0.310000               69.148000   \n",
       "75%       127.667500      1.407500              342.330000   \n",
       "max      2993.610000  55499.900000             1318.000000   \n",
       "\n",
       "       segment_to_elevation  segment_length  segment_slope  \n",
       "count          10494.000000    10494.000000   10494.000000  \n",
       "mean             213.259379      606.089464       1.031920  \n",
       "std              268.218727      657.611423       3.599174  \n",
       "min                1.000000        3.960000       0.000000  \n",
       "25%               18.203000      189.460000       0.020000  \n",
       "50%               74.541000      407.220000       0.370000  \n",
       "75%              348.500000      804.717500       1.040000  \n",
       "max             1320.000000     8153.200000      90.060000  "
      ]
     },
     "execution_count": 62,
     "metadata": {},
     "output_type": "execute_result"
    }
   ],
   "source": [
    "df.describe()"
   ]
  },
  {
   "cell_type": "code",
   "execution_count": 63,
   "metadata": {},
   "outputs": [
    {
     "data": {
      "text/plain": [
       "array([[<matplotlib.axes._subplots.AxesSubplot object at 0x10df44f28>]],\n",
       "      dtype=object)"
      ]
     },
     "execution_count": 63,
     "metadata": {},
     "output_type": "execute_result"
    },
    {
     "data": {
      "image/png": "[encoded data removed]",
      "text/plain": [
       "<Figure size 432x288 with 1 Axes>"
      ]
     },
     "metadata": {},
     "output_type": "display_data"
    }
   ],
   "source": [
    "# histogram of slopes between vertexes where slope < 100%\n",
    "\n",
    "df[df['vertex_slope'] < 100].hist(column='vertex_slope', bins=20)"
   ]
  },
  {
   "cell_type": "code",
   "execution_count": 64,
   "metadata": {},
   "outputs": [
    {
     "data": {
      "text/plain": [
       "array([[<matplotlib.axes._subplots.AxesSubplot object at 0x10caf4be0>]],\n",
       "      dtype=object)"
      ]
     },
     "execution_count": 64,
     "metadata": {},
     "output_type": "execute_result"
    },
    {
     "data": {
      "image/png": "[encoded data removed]",
      "text/plain": [
       "<Figure size 432x288 with 1 Axes>"
      ]
     },
     "metadata": {},
     "output_type": "display_data"
    }
   ],
   "source": [
    "# histogram of slopes between vertexes where slope < 20%\n",
    "df[df['vertex_slope'] < 20].hist(column='vertex_slope', bins=20)"
   ]
  },
  {
   "cell_type": "code",
   "execution_count": 65,
   "metadata": {},
   "outputs": [
    {
     "data": {
      "text/plain": [
       "array([[<matplotlib.axes._subplots.AxesSubplot object at 0x10e0a9e80>]],\n",
       "      dtype=object)"
      ]
     },
     "execution_count": 65,
     "metadata": {},
     "output_type": "execute_result"
    },
    {
     "data": {
      "image/png": "[encoded data removed]",
      "text/plain": [
       "<Figure size 432x288 with 1 Axes>"
      ]
     },
     "metadata": {},
     "output_type": "display_data"
    }
   ],
   "source": [
    "# histogram of segment slopes where slope < 20%\n",
    "df[df['segment_slope'] < 20].hist(column='segment_slope', bins=20)"
   ]
  },
  {
   "cell_type": "code",
   "execution_count": 66,
   "metadata": {},
   "outputs": [
    {
     "data": {
      "text/plain": [
       "<matplotlib.axes._subplots.AxesSubplot at 0x11e4208d0>"
      ]
     },
     "execution_count": 66,
     "metadata": {},
     "output_type": "execute_result"
    },
    {
     "data": {
      "image/png": "[encoded data removed]",
      "text/plain": [
       "<Figure size 432x288 with 1 Axes>"
      ]
     },
     "metadata": {},
     "output_type": "display_data"
    }
   ],
   "source": [
    "# try a box plot for all salmon, segment slopes less than 15%\n",
    "\n",
    "df[df['segment_slope'] < 15].boxplot(column=['segment_slope'])"
   ]
  },
  {
   "cell_type": "code",
   "execution_count": 67,
   "metadata": {},
   "outputs": [
    {
     "data": {
      "text/plain": [
       "<matplotlib.axes._subplots.AxesSubplot at 0x10e0c58d0>"
      ]
     },
     "execution_count": 67,
     "metadata": {},
     "output_type": "execute_result"
    },
    {
     "data": {
      "image/png": "[encoded data removed]",
      "text/plain": [
       "<Figure size 432x288 with 1 Axes>"
      ]
     },
     "metadata": {},
     "output_type": "display_data"
    }
   ],
   "source": [
    "# try coho at 5-15%\n",
    "df_sp = df[df['species_code'] == 'CH']\n",
    "df_sp = df_sp[df_sp['segment_slope'] < 20] \n",
    "df_sp = df_sp[df_sp['segment_slope'] > 5] \n",
    "df_sp.boxplot(column=['segment_slope'])"
   ]
  },
  {
   "cell_type": "code",
   "execution_count": 68,
   "metadata": {},
   "outputs": [
    {
     "data": {
      "text/plain": [
       "<matplotlib.axes._subplots.AxesSubplot at 0x10eebd4e0>"
      ]
     },
     "execution_count": 68,
     "metadata": {},
     "output_type": "execute_result"
    },
    {
     "data": {
      "image/png": "[encoded data removed]",
      "text/plain": [
       "<Figure size 432x288 with 1 Axes>"
      ]
     },
     "metadata": {},
     "output_type": "display_data"
    }
   ],
   "source": [
    "df_sp = df[df['species_code'] == 'CM']\n",
    "df_sp = df_sp[df_sp['segment_slope'] < 20] \n",
    "df_sp = df_sp[df_sp['segment_slope'] > 5] \n",
    "df_sp.boxplot(column=['segment_slope'])"
   ]
  },
  {
   "cell_type": "code",
   "execution_count": 69,
   "metadata": {},
   "outputs": [
    {
     "data": {
      "text/plain": [
       "<matplotlib.axes._subplots.AxesSubplot at 0x11320b8d0>"
      ]
     },
     "execution_count": 69,
     "metadata": {},
     "output_type": "execute_result"
    },
    {
     "data": {
      "image/png": "[encoded data removed]",
      "text/plain": [
       "<Figure size 432x288 with 1 Axes>"
      ]
     },
     "metadata": {},
     "output_type": "display_data"
    }
   ],
   "source": [
    "# CM\n",
    "df_sp = df[df['species_code'] == 'CM']\n",
    "df_sp = df_sp[df_sp['segment_slope'] < 20] \n",
    "df_sp = df_sp[df_sp['segment_slope'] > 5] \n",
    "df_sp.boxplot(column=['segment_slope'])"
   ]
  },
  {
   "cell_type": "code",
   "execution_count": 70,
   "metadata": {},
   "outputs": [
    {
     "data": {
      "text/plain": [
       "<matplotlib.axes._subplots.AxesSubplot at 0x10c050978>"
      ]
     },
     "execution_count": 70,
     "metadata": {},
     "output_type": "execute_result"
    },
    {
     "data": {
      "image/png": "[encoded data removed]",
      "text/plain": [
       "<Figure size 432x288 with 1 Axes>"
      ]
     },
     "metadata": {},
     "output_type": "display_data"
    }
   ],
   "source": [
    "df_sp = df[df['species_code'] == 'CO']\n",
    "df_sp = df_sp[df_sp['segment_slope'] < 20] \n",
    "df_sp = df_sp[df_sp['segment_slope'] > 5] \n",
    "df_sp.boxplot(column=['segment_slope'])"
   ]
  },
  {
   "cell_type": "code",
   "execution_count": 71,
   "metadata": {},
   "outputs": [
    {
     "data": {
      "text/plain": [
       "<matplotlib.axes._subplots.AxesSubplot at 0x10b125f98>"
      ]
     },
     "execution_count": 71,
     "metadata": {},
     "output_type": "execute_result"
    },
    {
     "data": {
      "image/png": "[encoded data removed]",
      "text/plain": [
       "<Figure size 432x288 with 1 Axes>"
      ]
     },
     "metadata": {},
     "output_type": "display_data"
    }
   ],
   "source": [
    "df_sp = df[df['species_code'] == 'PK']\n",
    "df_sp = df_sp[df_sp['segment_slope'] < 20] \n",
    "df_sp = df_sp[df_sp['segment_slope'] > 5] \n",
    "df_sp.boxplot(column=['segment_slope'])"
   ]
  },
  {
   "cell_type": "code",
   "execution_count": 72,
   "metadata": {},
   "outputs": [
    {
     "data": {
      "text/plain": [
       "<matplotlib.axes._subplots.AxesSubplot at 0x10b9a8278>"
      ]
     },
     "execution_count": 72,
     "metadata": {},
     "output_type": "execute_result"
    },
    {
     "data": {
      "image/png": "[encoded data removed]",
      "text/plain": [
       "<Figure size 432x288 with 1 Axes>"
      ]
     },
     "metadata": {},
     "output_type": "display_data"
    }
   ],
   "source": [
    "df_sp = df[df['species_code'] == 'SK']\n",
    "df_sp = df_sp[df_sp['segment_slope'] < 20] \n",
    "df_sp = df_sp[df_sp['segment_slope'] > 5] \n",
    "df_sp.boxplot(column=['segment_slope'])"
   ]
  },
  {
   "cell_type": "code",
   "execution_count": null,
   "metadata": {},
   "outputs": [],
   "source": []
  },
  {
   "cell_type": "code",
   "execution_count": null,
   "metadata": {},
   "outputs": [],
   "source": []
  }
 ],
 "metadata": {
  "kernelspec": {
   "display_name": "Python 3",
   "language": "python",
   "name": "python3"
  },
  "language_info": {
   "codemirror_mode": {
    "name": "ipython",
    "version": 3
   },
   "file_extension": ".py",
   "mimetype": "text/x-python",
   "name": "python",
   "nbconvert_exporter": "python",
   "pygments_lexer": "ipython3",
   "version": "3.6.5"
  }
 },
 "nbformat": 4,
 "nbformat_minor": 2
}
